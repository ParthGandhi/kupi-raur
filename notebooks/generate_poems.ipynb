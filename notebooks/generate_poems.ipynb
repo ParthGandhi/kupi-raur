{
 "cells": [
  {
   "cell_type": "code",
   "execution_count": 44,
   "metadata": {},
   "outputs": [
    {
     "data": {
      "text/plain": [
       "True"
      ]
     },
     "execution_count": 44,
     "metadata": {},
     "output_type": "execute_result"
    }
   ],
   "source": [
    "import requests\n",
    "from io import BytesIO\n",
    "from dotenv import load_dotenv\n",
    "import openai\n",
    "\n",
    "load_dotenv()"
   ]
  },
  {
   "cell_type": "code",
   "execution_count": 42,
   "metadata": {},
   "outputs": [],
   "source": [
    "def download_pdf(url: str):\n",
    "    response = requests.get(url)\n",
    "    return BytesIO(response.content)\n",
    "\n",
    "\n",
    "downloaded_book = download_pdf(\n",
    "    \"https://ia800707.us.archive.org/31/items/milk-and-honey-by-rupi-kaur/milk-and-honey-by-rupi-kaur.pdf\"\n",
    ")"
   ]
  },
  {
   "cell_type": "code",
   "execution_count": 43,
   "metadata": {},
   "outputs": [
    {
     "name": "stdout",
     "output_type": "stream",
     "text": [
      "204\n"
     ]
    }
   ],
   "source": [
    "from pypdf import PdfReader\n",
    "\n",
    "\n",
    "def parse_pages():\n",
    "    reader = PdfReader(downloaded_book)\n",
    "    return [page.extract_text() for page in reader.pages]\n",
    "\n",
    "\n",
    "poems = parse_pages()\n",
    "print(len(poems))"
   ]
  },
  {
   "cell_type": "code",
   "execution_count": 55,
   "metadata": {},
   "outputs": [
    {
     "name": "stdout",
     "output_type": "stream",
     "text": [
      "['Beneath sarees and genes, \\nStruggles bloom \\nLike lotus in monsoon. \\n\\nHold onto roots,\\nCultivate in foreign soil, \\nBecoming both the sun and the moon. \\n\\nYet - she fears not the plunge, \\nFor she is the river,\\nEver flowing, ever strong,\\nHer destiny, her own to deliver.', \"Living between languages,\\nI found my voice.\\nIn dusky skies of English,\\nand Punjabi spice.\\n\\nAn immigrant's tongue,\\ntasting two worlds.\\nI breathe,\\nunashamed,\\na narrative unfurled.\", \"bangles on my wrist\\nso like my mother\\nsmiles edged with sacrifice\\nacross oceans, far other\\n\\nfresh turmeric stained fingers\\ngently pluck memories\\nfrom her mother's sari\\nfolds of our histories\\n\\ntheir strength, my amulet\\nunfaded by time's tint\\nno border can limit\\nthis ancestral imprint\", 'mother tongue\\nforeign land\\nroots that stretch, unseen\\nbarren feet seeking home\\nunderneath neon skies. \\n\\nmelting pot brew\\nspice of ancestry, simmering\\npast in my palate\\nfuture in my stride. \\nbittersweet taste of freedom.', \"Marigold dreams in a foreign land,\\nRoots kissed by spice-laden winds.\\nGreat grandmother's sarees,\\nInherited smiles,\\nWeaving a quilt of diaspora. \\n\\nMother-tongue silent,\\nYet, a heart that bleeds in Punjabi songs.\\nFeminine resilience blooms,\\nIn every echo of her being.\\nShe is home. She is journey.\", \"Mother's recipe\\nhanded down \\nthrough tears and time\\na beating heart \\nin simmering curry\\nlove in every spice\\nmy culture in a bowl\\nmy identity in each bite.\", \"in the corners of my mother's saree \\nI found generations of strength  \\nwhispers of unsung heroines  \\nmy roots deep within  \\na testament of courage  \\nin every silk thread\", \"In the land where curry blooms \\nand mangoes weep\\nmy mother unearthed strength\\nforgotten in New Delhi's heat \\n\\nFather spoke of dreams\\nin a foreign tongue\\nBut in their echoes \\nwe too, have sung. \\n\\nI am not an immigrant\\nI am home.\", 'Eyes like monsoons,\\nBrown skin kissed by sun,\\nMy mother’s prayers sewn into my soul,\\nA quilt of heritage, my shelter from the storm,\\nI am the dream of a thousand generations,\\nSailed over oceans, still standing,\\nA daughter of diaspora, blooming.', \"in my mother's kitchen \\nsaffron dances with cardamom \\nan immigrant story \\nsimmering beautifully \\nshe nurses nostalgia \\nin each pot of curry\\nand I, her offspring,\\nlearn to taste home \\nin every bite\"]\n"
     ]
    }
   ],
   "source": [
    "def create_poem():\n",
    "    prompt = \"\"\"You are a millennial poet whose biggest influence is Rupi Kaur. You will write poems in the style of Rupi Kaur.\n",
    "Your poems will be simplistic in language and explores South Asian identity, immigration, and femininity and other themes from her poems.\n",
    "\n",
    "The poems should take the form of instapoems which usually consist of short, direct lines with or without a rhyme scheme.\n",
    "\n",
    "Each poem should be between 3-12 lines long. Each line should be under 8 words.\n",
    "\n",
    "Write 1 poem.\n",
    "\"\"\"\n",
    "    response = openai.ChatCompletion.create(\n",
    "        model=\"gpt-4\",\n",
    "        messages=[\n",
    "            {\n",
    "                \"role\": \"user\",\n",
    "                \"content\": prompt,\n",
    "            }\n",
    "        ],\n",
    "        temperature=1,\n",
    "    )\n",
    "    return response.choices[0][\"message\"][\"content\"]\n",
    "\n",
    "generated_poems = [create_poem() for _ in range(10)]\n",
    "print(generated_poems)"
   ]
  }
 ],
 "metadata": {
  "kernelspec": {
   "display_name": "Python 3 (ipykernel)",
   "language": "python",
   "name": "python3"
  },
  "language_info": {
   "codemirror_mode": {
    "name": "ipython",
    "version": 3
   },
   "file_extension": ".py",
   "mimetype": "text/x-python",
   "name": "python",
   "nbconvert_exporter": "python",
   "pygments_lexer": "ipython3",
   "version": "3.10.6"
  },
  "orig_nbformat": 4
 },
 "nbformat": 4,
 "nbformat_minor": 2
}
