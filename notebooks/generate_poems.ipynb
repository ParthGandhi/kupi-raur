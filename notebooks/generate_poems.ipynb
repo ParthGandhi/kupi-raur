{
 "cells": [
  {
   "cell_type": "code",
   "execution_count": null,
   "metadata": {},
   "outputs": [],
   "source": [
    "import requests\n",
    "from io import BytesIO\n",
    "from dotenv import load_dotenv\n",
    "from tqdm.notebook import tqdm\n",
    "import os\n",
    "import openai\n",
    "from pypdf import PdfReader\n",
    "import json\n",
    "import random\n",
    "\n",
    "\n",
    "load_dotenv()\n",
    "\n",
    "# TODO(PG): why doesn't this automatically pick it up from the env?\n",
    "openai.api_key = os.getenv(\"OPENAI_API_KEY\")\n",
    "NUM_POEMS = 50"
   ]
  },
  {
   "cell_type": "code",
   "execution_count": null,
   "metadata": {},
   "outputs": [],
   "source": [
    "def download_pdf(url: str):\n",
    "    response = requests.get(url)\n",
    "    return BytesIO(response.content)\n",
    "\n",
    "\n",
    "downloaded_book = download_pdf(\n",
    "    \"https://ia800707.us.archive.org/31/items/milk-and-honey-by-rupi-kaur/milk-and-honey-by-rupi-kaur.pdf\"\n",
    ")"
   ]
  },
  {
   "cell_type": "code",
   "execution_count": null,
   "metadata": {},
   "outputs": [],
   "source": [
    "def parse_pages():\n",
    "    reader = PdfReader(downloaded_book)\n",
    "    return [page.extract_text() for page in reader.pages]\n",
    "\n",
    "\n",
    "rupi_poems = parse_pages()\n",
    "# remove the non-poetry pages\n",
    "rupi_poems = rupi_poems[6:-7]\n",
    "# remove empty pages and format tabs as spaces\n",
    "rupi_poems = [poem.replace(\"\\t\", \" \") for poem in rupi_poems if poem.strip() != \"\"]"
   ]
  },
  {
   "cell_type": "code",
   "execution_count": null,
   "metadata": {},
   "outputs": [],
   "source": [
    "def create_poem():\n",
    "    prompt = \"\"\"You are a millennial poet whose biggest influence is Rupi Kaur. You will write poems in the style of Rupi Kaur.\n",
    "Your poems will be simplistic in language and explores South Asian identity, immigration, and femininity and other themes from her poems.\n",
    "\n",
    "The poems should take the form of instapoems which usually consist of short, direct lines with or without a rhyme scheme.\n",
    "\n",
    "Each poem should be between 3-8 lines long. Each line should be under 8 words.\n",
    "\n",
    "Write 1 poem.\n",
    "\"\"\"\n",
    "    response = openai.ChatCompletion.create(\n",
    "        model=\"gpt-4\",\n",
    "        messages=[\n",
    "            {\n",
    "                \"role\": \"user\",\n",
    "                \"content\": prompt,\n",
    "            }\n",
    "        ],\n",
    "        temperature=1,\n",
    "    )\n",
    "    return response.choices[0][\"message\"][\"content\"]\n",
    "\n",
    "\n",
    "generated_poems = [create_poem() for _ in tqdm(range(int(NUM_POEMS / 2)))]"
   ]
  },
  {
   "cell_type": "code",
   "execution_count": null,
   "metadata": {},
   "outputs": [],
   "source": [
    "# pick random poems from the book and format all poems as json\n",
    "selected_poems = [{\"isGPT\": True, \"text\": poem} for poem in generated_poems] + [\n",
    "    {\"isGPT\": False, \"text\": poem}\n",
    "    for poem in random.sample(rupi_poems, int(NUM_POEMS / 2))\n",
    "]\n",
    "print(json.dumps(selected_poems))"
   ]
  }
 ],
 "metadata": {
  "kernelspec": {
   "display_name": "Python 3 (ipykernel)",
   "language": "python",
   "name": "python3"
  },
  "language_info": {
   "codemirror_mode": {
    "name": "ipython",
    "version": 3
   },
   "file_extension": ".py",
   "mimetype": "text/x-python",
   "name": "python",
   "nbconvert_exporter": "python",
   "pygments_lexer": "ipython3",
   "version": "3.10.6"
  },
  "orig_nbformat": 4
 },
 "nbformat": 4,
 "nbformat_minor": 2
}
